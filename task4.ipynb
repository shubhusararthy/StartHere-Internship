{
  "metadata": {
    "kernelspec": {
      "display_name": "Python 3",
      "language": "python",
      "name": "python3"
    },
    "language_info": {
      "name": "python",
      "version": "3.6.6",
      "mimetype": "text/x-python",
      "codemirror_mode": {
        "name": "ipython",
        "version": 3
      },
      "pygments_lexer": "ipython3",
      "nbconvert_exporter": "python",
      "file_extension": ".py"
    },
    "kaggle": {
      "accelerator": "none",
      "dataSources": [
        {
          "sourceId": 320111,
          "sourceType": "datasetVersion",
          "datasetId": 134715
        }
      ],
      "dockerImageVersionId": 28120,
      "isInternetEnabled": false,
      "language": "python",
      "sourceType": "notebook",
      "isGpuEnabled": false
    },
    "colab": {
      "name": "task4",
      "provenance": [],
      "include_colab_link": true
    }
  },
  "nbformat_minor": 0,
  "nbformat": 4,
  "cells": [
    {
      "cell_type": "markdown",
      "metadata": {
        "id": "view-in-github",
        "colab_type": "text"
      },
      "source": [
        "<a href=\"https://colab.research.google.com/github/shubhusararthy/StartHere-Internship/blob/main/task4.ipynb\" target=\"_parent\"><img src=\"https://colab.research.google.com/assets/colab-badge.svg\" alt=\"Open In Colab\"/></a>"
      ]
    },
    {
      "source": [
        "# IMPORTANT: RUN THIS CELL IN ORDER TO IMPORT YOUR KAGGLE DATA SOURCES,\n",
        "# THEN FEEL FREE TO DELETE THIS CELL.\n",
        "# NOTE: THIS NOTEBOOK ENVIRONMENT DIFFERS FROM KAGGLE'S PYTHON\n",
        "# ENVIRONMENT SO THERE MAY BE MISSING LIBRARIES USED BY YOUR\n",
        "# NOTEBOOK.\n",
        "import kagglehub\n",
        "lakshmi25npathi_imdb_dataset_of_50k_movie_reviews_path = kagglehub.dataset_download('lakshmi25npathi/imdb-dataset-of-50k-movie-reviews')\n",
        "\n",
        "print('Data source import complete.')\n"
      ],
      "metadata": {
        "id": "1UvvVasReORU"
      },
      "cell_type": "code",
      "outputs": [],
      "execution_count": null
    },
    {
      "cell_type": "code",
      "source": [
        "from mpl_toolkits.mplot3d import Axes3D\n",
        "from sklearn.preprocessing import StandardScaler\n",
        "import matplotlib.pyplot as plt # plotting\n",
        "import numpy as np # linear algebra\n",
        "import os # accessing directory structure\n",
        "import pandas as pd # data processing, CSV file I/O (e.g. pd.read_csv)\n"
      ],
      "metadata": {
        "_kg_hide-input": false,
        "jupyter": {
          "outputs_hidden": false
        },
        "trusted": true,
        "execution": {
          "iopub.status.busy": "2025-01-03T09:18:53.491447Z",
          "iopub.execute_input": "2025-01-03T09:18:53.491744Z",
          "iopub.status.idle": "2025-01-03T09:18:54.718416Z",
          "shell.execute_reply.started": "2025-01-03T09:18:53.491686Z",
          "shell.execute_reply": "2025-01-03T09:18:54.71712Z"
        },
        "id": "c5k34cZNeORV"
      },
      "outputs": [],
      "execution_count": null
    },
    {
      "cell_type": "code",
      "source": [
        "print(os.listdir('../input'))"
      ],
      "metadata": {
        "_kg_hide-input": false,
        "jupyter": {
          "outputs_hidden": false
        },
        "trusted": true,
        "execution": {
          "iopub.status.busy": "2025-01-03T09:18:54.721937Z",
          "iopub.execute_input": "2025-01-03T09:18:54.722383Z",
          "iopub.status.idle": "2025-01-03T09:18:54.733983Z",
          "shell.execute_reply.started": "2025-01-03T09:18:54.722308Z",
          "shell.execute_reply": "2025-01-03T09:18:54.732524Z"
        },
        "id": "hn52fiNOeORV",
        "outputId": "4a661c3d-3e36-4f83-efd9-374a46f1f8c6"
      },
      "outputs": [
        {
          "name": "stdout",
          "text": "['IMDB Dataset.csv']\n",
          "output_type": "stream"
        }
      ],
      "execution_count": null
    },
    {
      "cell_type": "code",
      "source": [
        "# Distribution graphs (histogram/bar graph) of column data\n",
        "def plotPerColumnDistribution(df, nGraphShown, nGraphPerRow):\n",
        "    nunique = df.nunique()\n",
        "    df = df[[col for col in df if nunique[col] > 1 and nunique[col] < 50]] # For displaying purposes, pick columns that have between 1 and 50 unique values\n",
        "    nRow, nCol = df.shape\n",
        "    columnNames = list(df)\n",
        "    nGraphRow = (nCol + nGraphPerRow - 1) / nGraphPerRow\n",
        "    plt.figure(num = None, figsize = (6 * nGraphPerRow, 8 * nGraphRow), dpi = 80, facecolor = 'w', edgecolor = 'k')\n",
        "    for i in range(min(nCol, nGraphShown)):\n",
        "        plt.subplot(nGraphRow, nGraphPerRow, i + 1)\n",
        "        columnDf = df.iloc[:, i]\n",
        "        if (not np.issubdtype(type(columnDf.iloc[0]), np.number)):\n",
        "            valueCounts = columnDf.value_counts()\n",
        "            valueCounts.plot.bar()\n",
        "        else:\n",
        "            columnDf.hist()\n",
        "        plt.ylabel('counts')\n",
        "        plt.xticks(rotation = 90)\n",
        "        plt.title(f'{columnNames[i]} (column {i})')\n",
        "    plt.tight_layout(pad = 1.0, w_pad = 1.0, h_pad = 1.0)\n",
        "    plt.show()\n"
      ],
      "metadata": {
        "_kg_hide-input": true,
        "trusted": true,
        "execution": {
          "iopub.status.busy": "2025-01-03T09:18:54.736173Z",
          "iopub.execute_input": "2025-01-03T09:18:54.736631Z",
          "iopub.status.idle": "2025-01-03T09:18:54.752479Z",
          "shell.execute_reply.started": "2025-01-03T09:18:54.736556Z",
          "shell.execute_reply": "2025-01-03T09:18:54.751281Z"
        },
        "id": "-V3W6_pZeORW"
      },
      "outputs": [],
      "execution_count": null
    },
    {
      "cell_type": "code",
      "source": [
        "# Correlation matrix\n",
        "def plotCorrelationMatrix(df, graphWidth):\n",
        "    filename = df.dataframeName\n",
        "    df = df.dropna('columns') # drop columns with NaN\n",
        "    df = df[[col for col in df if df[col].nunique() > 1]] # keep columns where there are more than 1 unique values\n",
        "    if df.shape[1] < 2:\n",
        "        print(f'No correlation plots shown: The number of non-NaN or constant columns ({df.shape[1]}) is less than 2')\n",
        "        return\n",
        "    corr = df.corr()\n",
        "    plt.figure(num=None, figsize=(graphWidth, graphWidth), dpi=80, facecolor='w', edgecolor='k')\n",
        "    corrMat = plt.matshow(corr, fignum = 1)\n",
        "    plt.xticks(range(len(corr.columns)), corr.columns, rotation=90)\n",
        "    plt.yticks(range(len(corr.columns)), corr.columns)\n",
        "    plt.gca().xaxis.tick_bottom()\n",
        "    plt.colorbar(corrMat)\n",
        "    plt.title(f'Correlation Matrix for {filename}', fontsize=15)\n",
        "    plt.show()\n"
      ],
      "metadata": {
        "_kg_hide-input": true,
        "trusted": true,
        "execution": {
          "iopub.status.busy": "2025-01-03T09:18:54.754377Z",
          "iopub.execute_input": "2025-01-03T09:18:54.754731Z",
          "iopub.status.idle": "2025-01-03T09:18:54.770715Z",
          "shell.execute_reply.started": "2025-01-03T09:18:54.754667Z",
          "shell.execute_reply": "2025-01-03T09:18:54.769724Z"
        },
        "id": "4oleX7IPeORW"
      },
      "outputs": [],
      "execution_count": null
    },
    {
      "cell_type": "code",
      "source": [
        "# Scatter and density plots\n",
        "def plotScatterMatrix(df, plotSize, textSize):\n",
        "    df = df.select_dtypes(include =[np.number]) # keep only numerical columns\n",
        "    # Remove rows and columns that would lead to df being singular\n",
        "    df = df.dropna('columns')\n",
        "    df = df[[col for col in df if df[col].nunique() > 1]] # keep columns where there are more than 1 unique values\n",
        "    columnNames = list(df)\n",
        "    if len(columnNames) > 10: # reduce the number of columns for matrix inversion of kernel density plots\n",
        "        columnNames = columnNames[:10]\n",
        "    df = df[columnNames]\n",
        "    ax = pd.plotting.scatter_matrix(df, alpha=0.75, figsize=[plotSize, plotSize], diagonal='kde')\n",
        "    corrs = df.corr().values\n",
        "    for i, j in zip(*plt.np.triu_indices_from(ax, k = 1)):\n",
        "        ax[i, j].annotate('Corr. coef = %.3f' % corrs[i, j], (0.8, 0.2), xycoords='axes fraction', ha='center', va='center', size=textSize)\n",
        "    plt.suptitle('Scatter and Density Plot')\n",
        "    plt.show()\n"
      ],
      "metadata": {
        "_kg_hide-input": true,
        "trusted": true,
        "execution": {
          "iopub.status.busy": "2025-01-03T09:18:54.772551Z",
          "iopub.execute_input": "2025-01-03T09:18:54.772998Z",
          "iopub.status.idle": "2025-01-03T09:18:54.79608Z",
          "shell.execute_reply.started": "2025-01-03T09:18:54.772916Z",
          "shell.execute_reply": "2025-01-03T09:18:54.794915Z"
        },
        "id": "RnrhRfwAeORW"
      },
      "outputs": [],
      "execution_count": null
    },
    {
      "cell_type": "code",
      "source": [
        "nRowsRead = 1000 # specify 'None' if want to read whole file\n",
        "# IMDB Dataset.csv has 50000 rows in reality, but we are only loading/previewing the first 1000 rows\n",
        "df1 = pd.read_csv('../input/IMDB Dataset.csv', delimiter=',', nrows = nRowsRead)\n",
        "df1.dataframeName = 'IMDB Dataset.csv'\n",
        "nRow, nCol = df1.shape\n",
        "print(f'There are {nRow} rows and {nCol} columns')"
      ],
      "metadata": {
        "_kg_hide-input": false,
        "jupyter": {
          "outputs_hidden": false
        },
        "trusted": true,
        "execution": {
          "iopub.status.busy": "2025-01-03T09:18:54.797847Z",
          "iopub.execute_input": "2025-01-03T09:18:54.79832Z",
          "iopub.status.idle": "2025-01-03T09:18:54.869372Z",
          "shell.execute_reply.started": "2025-01-03T09:18:54.798246Z",
          "shell.execute_reply": "2025-01-03T09:18:54.86825Z"
        },
        "id": "ZbxwBZlIeORX",
        "outputId": "6acc0ee4-b1c5-47d8-d6d4-07e6f6c2c990"
      },
      "outputs": [
        {
          "name": "stdout",
          "text": "There are 1000 rows and 2 columns\n",
          "output_type": "stream"
        }
      ],
      "execution_count": null
    },
    {
      "cell_type": "code",
      "source": [
        "df1.head(5)"
      ],
      "metadata": {
        "_kg_hide-input": false,
        "jupyter": {
          "outputs_hidden": false
        },
        "trusted": true,
        "execution": {
          "iopub.status.busy": "2025-01-03T09:18:54.871009Z",
          "iopub.execute_input": "2025-01-03T09:18:54.871314Z",
          "iopub.status.idle": "2025-01-03T09:18:54.896519Z",
          "shell.execute_reply.started": "2025-01-03T09:18:54.871255Z",
          "shell.execute_reply": "2025-01-03T09:18:54.895407Z"
        },
        "id": "3HK_ZdkPeORX",
        "outputId": "0b5b7e6c-5e8c-4a7d-ce8a-c8039e2112da"
      },
      "outputs": [
        {
          "execution_count": 7,
          "output_type": "execute_result",
          "data": {
            "text/plain": "                                              review sentiment\n0  One of the other reviewers has mentioned that ...  positive\n1  A wonderful little production. <br /><br />The...  positive\n2  I thought this was a wonderful way to spend ti...  positive\n3  Basically there's a family where a little boy ...  negative\n4  Petter Mattei's \"Love in the Time of Money\" is...  positive",
            "text/html": "<div>\n<style scoped>\n    .dataframe tbody tr th:only-of-type {\n        vertical-align: middle;\n    }\n\n    .dataframe tbody tr th {\n        vertical-align: top;\n    }\n\n    .dataframe thead th {\n        text-align: right;\n    }\n</style>\n<table border=\"1\" class=\"dataframe\">\n  <thead>\n    <tr style=\"text-align: right;\">\n      <th></th>\n      <th>review</th>\n      <th>sentiment</th>\n    </tr>\n  </thead>\n  <tbody>\n    <tr>\n      <th>0</th>\n      <td>One of the other reviewers has mentioned that ...</td>\n      <td>positive</td>\n    </tr>\n    <tr>\n      <th>1</th>\n      <td>A wonderful little production. &lt;br /&gt;&lt;br /&gt;The...</td>\n      <td>positive</td>\n    </tr>\n    <tr>\n      <th>2</th>\n      <td>I thought this was a wonderful way to spend ti...</td>\n      <td>positive</td>\n    </tr>\n    <tr>\n      <th>3</th>\n      <td>Basically there's a family where a little boy ...</td>\n      <td>negative</td>\n    </tr>\n    <tr>\n      <th>4</th>\n      <td>Petter Mattei's \"Love in the Time of Money\" is...</td>\n      <td>positive</td>\n    </tr>\n  </tbody>\n</table>\n</div>"
          },
          "metadata": {}
        }
      ],
      "execution_count": null
    },
    {
      "cell_type": "code",
      "source": [
        "plotPerColumnDistribution(df1, 10, 5)"
      ],
      "metadata": {
        "_kg_hide-input": false,
        "jupyter": {
          "outputs_hidden": false
        },
        "trusted": true,
        "execution": {
          "iopub.status.busy": "2025-01-03T09:18:54.898334Z",
          "iopub.execute_input": "2025-01-03T09:18:54.898671Z",
          "iopub.status.idle": "2025-01-03T09:18:55.344068Z",
          "shell.execute_reply.started": "2025-01-03T09:18:54.89862Z",
          "shell.execute_reply": "2025-01-03T09:18:55.342561Z"
        },
        "id": "EdFHng6heORX",
        "outputId": "d62ca8a5-8b5c-4552-81f3-bd8ee82cbd35"
      },
      "outputs": [
        {
          "output_type": "display_data",
          "data": {
            "text/plain": "<Figure size 2400x640 with 1 Axes>",
            "image/png": "[encoded data removed]"
          },
          "metadata": {}
        }
      ],
      "execution_count": null
    },
    {
      "cell_type": "markdown",
      "source": [
        "## Conclusion\n",
        "This concludes your starter analysis! To go forward from here, click the blue \"Edit Notebook\" button at the top of the kernel. This will create a copy of the code and environment for you to edit. Delete, modify, and add code as you please. Happy Kaggling!"
      ],
      "metadata": {
        "id": "0TfranyqeORY"
      }
    }
  ]
}