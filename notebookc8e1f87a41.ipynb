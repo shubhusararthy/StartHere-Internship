{
  "metadata": {
    "kernelspec": {
      "language": "python",
      "display_name": "Python 3",
      "name": "python3"
    },
    "language_info": {
      "name": "python",
      "version": "3.10.12",
      "mimetype": "text/x-python",
      "codemirror_mode": {
        "name": "ipython",
        "version": 3
      },
      "pygments_lexer": "ipython3",
      "nbconvert_exporter": "python",
      "file_extension": ".py"
    },
    "kaggle": {
      "accelerator": "none",
      "dataSources": [
        {
          "sourceId": 3136,
          "databundleVersionId": 26502,
          "sourceType": "competition"
        }
      ],
      "dockerImageVersionId": 30822,
      "isInternetEnabled": true,
      "language": "python",
      "sourceType": "notebook",
      "isGpuEnabled": false
    },
    "colab": {
      "name": "notebookc8e1f87a41",
      "provenance": [],
      "include_colab_link": true
    }
  },
  "nbformat_minor": 0,
  "nbformat": 4,
  "cells": [
    {
      "cell_type": "markdown",
      "metadata": {
        "id": "view-in-github",
        "colab_type": "text"
      },
      "source": [
        "<a href=\"https://colab.research.google.com/github/shubhusararthy/StartHere-Internship/blob/main/notebookc8e1f87a41.ipynb\" target=\"_parent\"><img src=\"https://colab.research.google.com/assets/colab-badge.svg\" alt=\"Open In Colab\"/></a>"
      ]
    },
    {
      "cell_type": "markdown",
      "source": [
        "#TASK 3 - Titanic Survival Rates"
      ],
      "metadata": {
        "id": "40J_p0sBfPRL"
      }
    },
    {
      "cell_type": "markdown",
      "source": [
        "**Project Type** - Classification\n",
        "\n",
        "**Industry** - StartHere\n",
        "\n",
        "**Contribution** - Individual\n",
        "\n",
        "**Name** - Shubhangini Sarathy"
      ],
      "metadata": {
        "id": "ugqLFTEkfa_r"
      }
    },
    {
      "source": [
        "# IMPORTANT: SOME KAGGLE DATA SOURCES ARE PRIVATE\n",
        "# RUN THIS CELL IN ORDER TO IMPORT YOUR KAGGLE DATA SOURCES.\n",
        "import kagglehub\n",
        "kagglehub.login()\n"
      ],
      "metadata": {
        "id": "-_51czUGaWKx"
      },
      "cell_type": "code",
      "outputs": [],
      "execution_count": null
    },
    {
      "source": [
        "# IMPORTANT: RUN THIS CELL IN ORDER TO IMPORT YOUR KAGGLE DATA SOURCES,\n",
        "# THEN FEEL FREE TO DELETE THIS CELL.\n",
        "# NOTE: THIS NOTEBOOK ENVIRONMENT DIFFERS FROM KAGGLE'S PYTHON\n",
        "# ENVIRONMENT SO THERE MAY BE MISSING LIBRARIES USED BY YOUR\n",
        "# NOTEBOOK.\n",
        "\n",
        "titanic_path = kagglehub.competition_download('titanic')\n",
        "\n",
        "print('Data source import complete.')\n"
      ],
      "metadata": {
        "id": "5W9iKTgSaWKy"
      },
      "cell_type": "code",
      "outputs": [],
      "execution_count": null
    },
    {
      "cell_type": "code",
      "source": [
        "# This Python 3 environment comes with many helpful analytics libraries installed\n",
        "# It is defined by the kaggle/python Docker image: https://github.com/kaggle/docker-python\n",
        "# For example, here's several helpful packages to load\n",
        "\n",
        "import numpy as np # linear algebra\n",
        "import pandas as pd # data processing, CSV file I/O (e.g. pd.read_csv)\n",
        "\n",
        "# Input data files are available in the read-only \"../input/\" directory\n",
        "# For example, running this (by clicking run or pressing Shift+Enter) will list all files under the input directory\n",
        "\n",
        "import os\n",
        "for dirname, _, filenames in os.walk('/kaggle/input'):\n",
        "    for filename in filenames:\n",
        "        print(os.path.join(dirname, filename))\n",
        "\n",
        "# You can write up to 20GB to the current directory (/kaggle/working/) that gets preserved as output when you create a version using \"Save & Run All\"\n",
        "# You can also write temporary files to /kaggle/temp/, but they won't be saved outside of the current session"
      ],
      "metadata": {
        "_uuid": "8f2839f25d086af736a60e9eeb907d3b93b6e0e5",
        "_cell_guid": "b1076dfc-b9ad-4769-8c92-a6c4dae69d19",
        "trusted": true,
        "execution": {
          "iopub.status.busy": "2025-01-03T09:00:03.719772Z",
          "iopub.execute_input": "2025-01-03T09:00:03.720152Z",
          "iopub.status.idle": "2025-01-03T09:00:03.727496Z",
          "shell.execute_reply.started": "2025-01-03T09:00:03.720123Z",
          "shell.execute_reply": "2025-01-03T09:00:03.726255Z"
        },
        "id": "gEvIFuQWaWKy"
      },
      "outputs": [],
      "execution_count": null
    },
    {
      "cell_type": "code",
      "source": [
        "train_data = pd.read_csv(\"/kaggle/input/titanic/train.csv\")\n",
        "train_data.head()"
      ],
      "metadata": {
        "trusted": true,
        "execution": {
          "iopub.status.busy": "2025-01-03T09:00:22.142489Z",
          "iopub.execute_input": "2025-01-03T09:00:22.142837Z",
          "iopub.status.idle": "2025-01-03T09:00:22.165574Z",
          "shell.execute_reply.started": "2025-01-03T09:00:22.14281Z",
          "shell.execute_reply": "2025-01-03T09:00:22.16445Z"
        },
        "id": "GI0wn2aXaWKz"
      },
      "outputs": [],
      "execution_count": null
    },
    {
      "cell_type": "code",
      "source": [
        "test_data = pd.read_csv(\"/kaggle/input/titanic/test.csv\")\n",
        "test_data.head()"
      ],
      "metadata": {
        "trusted": true,
        "execution": {
          "iopub.status.busy": "2025-01-03T09:01:04.894947Z",
          "iopub.execute_input": "2025-01-03T09:01:04.895408Z",
          "iopub.status.idle": "2025-01-03T09:01:04.916201Z",
          "shell.execute_reply.started": "2025-01-03T09:01:04.89537Z",
          "shell.execute_reply": "2025-01-03T09:01:04.915049Z"
        },
        "id": "qK21vuEWaWKz"
      },
      "outputs": [],
      "execution_count": null
    },
    {
      "cell_type": "code",
      "source": [
        "women = train_data.loc[train_data.Sex == 'female'][\"Survived\"]\n",
        "rate_women = sum(women)/len(women)\n",
        "\n",
        "print(\"% of women who survived:\", rate_women)"
      ],
      "metadata": {
        "trusted": true,
        "execution": {
          "iopub.status.busy": "2025-01-03T09:01:27.123706Z",
          "iopub.execute_input": "2025-01-03T09:01:27.124102Z",
          "iopub.status.idle": "2025-01-03T09:01:27.130959Z",
          "shell.execute_reply.started": "2025-01-03T09:01:27.124071Z",
          "shell.execute_reply": "2025-01-03T09:01:27.129427Z"
        },
        "id": "889CRR0baWKz"
      },
      "outputs": [],
      "execution_count": null
    },
    {
      "cell_type": "code",
      "source": [
        "men = train_data.loc[train_data.Sex == 'male'][\"Survived\"]\n",
        "rate_men = sum(men)/len(men)\n",
        "\n",
        "print(\"% of men who survived:\", rate_men)"
      ],
      "metadata": {
        "trusted": true,
        "execution": {
          "iopub.status.busy": "2025-01-03T09:01:58.442872Z",
          "iopub.execute_input": "2025-01-03T09:01:58.443259Z",
          "iopub.status.idle": "2025-01-03T09:01:58.451745Z",
          "shell.execute_reply.started": "2025-01-03T09:01:58.443225Z",
          "shell.execute_reply": "2025-01-03T09:01:58.450461Z"
        },
        "id": "9TNgkSquaWK0"
      },
      "outputs": [],
      "execution_count": null
    },
    {
      "cell_type": "code",
      "source": [
        "from sklearn.ensemble import RandomForestClassifier\n",
        "\n",
        "y = train_data[\"Survived\"]\n",
        "\n",
        "features = [\"Pclass\", \"Sex\", \"SibSp\", \"Parch\"]\n",
        "X = pd.get_dummies(train_data[features])\n",
        "X_test = pd.get_dummies(test_data[features])\n",
        "\n",
        "model = RandomForestClassifier(n_estimators=100, max_depth=5, random_state=1)\n",
        "model.fit(X, y)\n",
        "predictions = model.predict(X_test)\n",
        "\n",
        "output = pd.DataFrame({'PassengerId': test_data.PassengerId, 'Survived': predictions})\n",
        "output.to_csv('submission.csv', index=False)\n",
        "print(\"Your submission was successfully saved!\")\n"
      ],
      "metadata": {
        "trusted": true,
        "execution": {
          "iopub.status.busy": "2025-01-03T09:02:00.707789Z",
          "iopub.execute_input": "2025-01-03T09:02:00.708165Z",
          "iopub.status.idle": "2025-01-03T09:02:02.041102Z",
          "shell.execute_reply.started": "2025-01-03T09:02:00.708135Z",
          "shell.execute_reply": "2025-01-03T09:02:02.040006Z"
        },
        "id": "Jp6-FHlfaWK0"
      },
      "outputs": [],
      "execution_count": null
    }
  ]
}